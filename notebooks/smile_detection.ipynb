{
 "cells": [
  {
   "cell_type": "code",
   "execution_count": 3,
   "metadata": {},
   "outputs": [],
   "source": [
    "import glob\n",
    "import matplotlib.pyplot as plt\n",
    "import numpy as np\n",
    "import cv2 as cv"
   ]
  },
  {
   "cell_type": "code",
   "execution_count": 4,
   "metadata": {},
   "outputs": [
    {
     "name": "stdout",
     "output_type": "stream",
     "text": [
      "loaded 9475 negative examples\n",
      "loaded 3690 positive examples\n"
     ]
    }
   ],
   "source": [
    "path = '../data/SMILEs'\n",
    "negative_paths = glob.glob(path + '/negatives/negatives7/*.jpg')\n",
    "print('loaded', len(list(negative_paths)), 'negative examples')\n",
    "positive_paths = glob.glob(path + '/positives/positives7/*.jpg')\n",
    "print('loaded', len(list(positive_paths)), 'positive examples')\n",
    "examples = [(path, 0) for path in negative_paths] + [(path, 1) for path in positive_paths]"
   ]
  },
  {
   "cell_type": "code",
   "execution_count": 5,
   "metadata": {},
   "outputs": [],
   "source": [
    "def examples_to_dataset(examples):\n",
    "    X = []\n",
    "    y = []\n",
    "    for path, label in examples:\n",
    "        img = cv.imread(path, 0)\n",
    "        X.append(img)\n",
    "        y.append(label)\n",
    "    return np.array(X), np.array(y)"
   ]
  },
  {
   "cell_type": "code",
   "execution_count": 6,
   "metadata": {},
   "outputs": [
    {
     "name": "stdout",
     "output_type": "stream",
     "text": [
      "float32 0.0 1.0 (13165, 64, 64)\n",
      "int32 0 1 (13165,)\n"
     ]
    }
   ],
   "source": [
    "X, y = examples_to_dataset(examples)\n",
    "X = X.astype(np.float32) / 255.\n",
    "y = y.astype(np.int32)\n",
    "print(X.dtype, X.min(), X.max(), X.shape)\n",
    "print(y.dtype, y.min(), y.max(), y.shape)\n"
   ]
  },
  {
   "cell_type": "code",
   "execution_count": 7,
   "metadata": {},
   "outputs": [],
   "source": [
    "X = np.expand_dims(X, axis=-1)\n",
    "np.save('X.npy', X)\n",
    "np.save('y.npy', y)"
   ]
  },
  {
   "cell_type": "code",
   "execution_count": 1,
   "metadata": {},
   "outputs": [],
   "source": [
    "import tensorflow as tf\n",
    "from tensorflow.keras.models import Model, Sequential, model_from_json\n",
    "from tensorflow.keras.layers import Dense, Input, Dropout, Activation, Conv2D, MaxPooling2D, Flatten, Conv1D\n",
    "from tensorflow.keras import layers, losses"
   ]
  },
  {
   "cell_type": "code",
   "execution_count": 2,
   "metadata": {},
   "outputs": [],
   "source": [
    "gpus = tf.config.experimental.list_physical_devices('GPU')\n",
    "list(map(lambda g: tf.config.experimental.set_memory_growth(g, True), gpus));"
   ]
  },
  {
   "cell_type": "code",
   "execution_count": 9,
   "metadata": {},
   "outputs": [
    {
     "name": "stdout",
     "output_type": "stream",
     "text": [
      "float32 0.0 1.0 (13165, 64, 64, 1)\n",
      "float32 0.0 1.0 (13165, 2)\n"
     ]
    }
   ],
   "source": [
    "# load the data\n",
    "X = np.load('X.npy')\n",
    "y = np.load('y.npy')\n",
    "\n",
    "# convert classes to vector\n",
    "y = np.eye(2)[y].astype(np.float32)\n",
    "\n",
    "# shuffle all the data\n",
    "indices = np.arange(len(X))\n",
    "np.random.shuffle(indices)\n",
    "X = X[indices]\n",
    "y = y[indices]\n",
    "\n",
    "# prepare weighting for classes since they're unbalanced\n",
    "class_totals = y.sum(axis=0)\n",
    "class_weight = class_totals.max() / class_totals\n",
    "\n",
    "print(X.dtype, X.min(), X.max(), X.shape)\n",
    "print(y.dtype, y.min(), y.max(), y.shape)"
   ]
  },
  {
   "cell_type": "code",
   "execution_count": 10,
   "metadata": {},
   "outputs": [],
   "source": [
    "def build_model():\n",
    "    model = Sequential([\n",
    "        Conv2D(16, 5, activation='relu', padding='same'),\n",
    "        MaxPooling2D(2, 2),\n",
    "        Conv2D(32, 5, activation='relu', padding='same'),\n",
    "        MaxPooling2D(2, 2),\n",
    "        Flatten(),\n",
    "        Dense(64, activation='relu'),\n",
    "        Dropout(0.5),\n",
    "        Dense(2, activation='softmax')\n",
    "    ])\n",
    "    model.compile(loss='binary_crossentropy', optimizer='adam', metrics=['accuracy'])\n",
    "    return model"
   ]
  },
  {
   "cell_type": "code",
   "execution_count": 11,
   "metadata": {},
   "outputs": [
    {
     "name": "stderr",
     "output_type": "stream",
     "text": [
      "WARNING: Logging before flag parsing goes to stderr.\n",
      "W0725 19:02:44.386343 140500007024384 deprecation.py:323] From /home/Marvelous_Coder/Documents/jupyter_files/hackaserpro/venv/lib/python3.6/site-packages/tensorflow/python/ops/math_grad.py:1250: add_dispatch_support.<locals>.wrapper (from tensorflow.python.ops.array_ops) is deprecated and will be removed in a future version.\n",
      "Instructions for updating:\n",
      "Use tf.where in 2.0, which has the same broadcast rule as np.where\n"
     ]
    },
    {
     "name": "stdout",
     "output_type": "stream",
     "text": [
      "Train on 10532 samples, validate on 2633 samples\n",
      "Epoch 1/10\n",
      "10532/10532 [==============================] - 2s 185us/sample - loss: 0.5025 - accuracy: 0.7513 - val_loss: 0.3709 - val_accuracy: 0.8458\n",
      "Epoch 2/10\n",
      "10532/10532 [==============================] - 1s 95us/sample - loss: 0.3531 - accuracy: 0.8512 - val_loss: 0.3243 - val_accuracy: 0.8625\n",
      "Epoch 3/10\n",
      "10532/10532 [==============================] - 1s 116us/sample - loss: 0.3028 - accuracy: 0.8798 - val_loss: 0.2786 - val_accuracy: 0.8872\n",
      "Epoch 4/10\n",
      "10532/10532 [==============================] - 1s 96us/sample - loss: 0.2780 - accuracy: 0.8941 - val_loss: 0.2483 - val_accuracy: 0.9032\n",
      "Epoch 5/10\n",
      "10532/10532 [==============================] - 1s 97us/sample - loss: 0.2525 - accuracy: 0.9053 - val_loss: 0.2379 - val_accuracy: 0.9096\n",
      "Epoch 6/10\n",
      "10532/10532 [==============================] - 1s 83us/sample - loss: 0.2437 - accuracy: 0.9108 - val_loss: 0.2315 - val_accuracy: 0.9126\n",
      "Epoch 7/10\n",
      "10532/10532 [==============================] - 1s 84us/sample - loss: 0.2236 - accuracy: 0.9137 - val_loss: 0.2275 - val_accuracy: 0.9115\n",
      "Epoch 8/10\n",
      "10532/10532 [==============================] - 1s 86us/sample - loss: 0.2165 - accuracy: 0.9189 - val_loss: 0.2332 - val_accuracy: 0.9142\n",
      "Epoch 9/10\n",
      "10532/10532 [==============================] - 1s 84us/sample - loss: 0.2035 - accuracy: 0.9230 - val_loss: 0.2170 - val_accuracy: 0.9202\n",
      "Epoch 10/10\n",
      "10532/10532 [==============================] - 1s 83us/sample - loss: 0.1865 - accuracy: 0.9280 - val_loss: 0.2212 - val_accuracy: 0.9168\n"
     ]
    }
   ],
   "source": [
    "validation_split = 0.2\n",
    "model = build_model()\n",
    "history = model.fit(X, y, batch_size=64, class_weight=class_weight, epochs=10, verbose=1, validation_split=validation_split)"
   ]
  },
  {
   "cell_type": "code",
   "execution_count": 12,
   "metadata": {},
   "outputs": [],
   "source": [
    "with open('model.json', 'w') as f:\n",
    "    f.write(model.to_json())\n",
    "    \n",
    "model.save_weights('weights.h5')"
   ]
  },
  {
   "cell_type": "code",
   "execution_count": 13,
   "metadata": {},
   "outputs": [
    {
     "data": {
      "image/png": "[encoded data removed]",
      "text/plain": [
       "<Figure size 432x288 with 1 Axes>"
      ]
     },
     "metadata": {
      "needs_background": "light"
     },
     "output_type": "display_data"
    }
   ],
   "source": [
    "plt.plot(history.history['accuracy'])\n",
    "plt.plot(history.history['val_accuracy'])\n",
    "plt.title('Acurácia do Modelo')\n",
    "plt.ylabel('Acurácia')\n",
    "plt.xlabel('Épocas')\n",
    "plt.legend(['train', 'validation'], loc='upper left')\n",
    "plt.show()"
   ]
  },
  {
   "cell_type": "code",
   "execution_count": 14,
   "metadata": {},
   "outputs": [
    {
     "data": {
      "image/png": "[encoded data removed]",
      "text/plain": [
       "<Figure size 432x288 with 1 Axes>"
      ]
     },
     "metadata": {
      "needs_background": "light"
     },
     "output_type": "display_data"
    }
   ],
   "source": [
    "plt.plot(history.history['loss'])\n",
    "plt.plot(history.history['val_loss'])\n",
    "plt.title('Loss do Modelo')\n",
    "plt.ylabel('Loss')\n",
    "plt.xlabel('Épocas')\n",
    "plt.legend(['train', 'validation'], loc='upper left')\n",
    "plt.show()"
   ]
  },
  {
   "cell_type": "code",
   "execution_count": 15,
   "metadata": {},
   "outputs": [],
   "source": [
    "model = model_from_json(open('model.json').read())\n",
    "model.load_weights('weights.h5')"
   ]
  },
  {
   "cell_type": "code",
   "execution_count": 16,
   "metadata": {},
   "outputs": [
    {
     "data": {
      "text/plain": [
       "<tf.Tensor: id=15586, shape=(13165, 2), dtype=float32, numpy=\n",
       "array([[9.9985647e-01, 1.4354922e-04],\n",
       "       [9.9603748e-01, 3.9625149e-03],\n",
       "       [8.7645870e-01, 1.2354129e-01],\n",
       "       ...,\n",
       "       [7.4330591e-02, 9.2566943e-01],\n",
       "       [1.5676206e-01, 8.4323794e-01],\n",
       "       [1.4838979e-01, 8.5161024e-01]], dtype=float32)>"
      ]
     },
     "execution_count": 16,
     "metadata": {},
     "output_type": "execute_result"
    }
   ],
   "source": [
    "X = np.load('X.npy')\n",
    "model(X)"
   ]
  }
 ],
 "metadata": {
  "kernelspec": {
   "display_name": "Python 3",
   "language": "python",
   "name": "python3"
  },
  "language_info": {
   "codemirror_mode": {
    "name": "ipython",
    "version": 3
   },
   "file_extension": ".py",
   "mimetype": "text/x-python",
   "name": "python",
   "nbconvert_exporter": "python",
   "pygments_lexer": "ipython3",
   "version": "3.6.9"
  }
 },
 "nbformat": 4,
 "nbformat_minor": 2
}
