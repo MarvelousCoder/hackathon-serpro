{
 "cells": [
  {
   "cell_type": "code",
   "execution_count": 6,
   "metadata": {},
   "outputs": [],
   "source": [
    "import pandas as pd\n",
    "import numpy as np\n",
    "import seaborn as sns\n",
    "import glob\n",
    "from collections import defaultdict"
   ]
  },
  {
   "cell_type": "code",
   "execution_count": 7,
   "metadata": {},
   "outputs": [],
   "source": [
    "big_data_normal = pd.concat([pd.read_csv(x, index_col=None, header=0, sep=';') \n",
    "                             for x in glob.glob(\"../data/normal/*.csv\")], axis=0, ignore_index=True)\n",
    "big_data_aplicacao = pd.concat([pd.read_csv(x, index_col=None, header=0, sep=';') \n",
    "                                for x in glob.glob(\"../data/aplicacao/*.csv\")], axis=0, ignore_index=True)"
   ]
  },
  {
   "cell_type": "code",
   "execution_count": 11,
   "metadata": {},
   "outputs": [],
   "source": [
    "counter_disjoint = defaultdict(int)"
   ]
  },
  {
   "cell_type": "code",
   "execution_count": 9,
   "metadata": {},
   "outputs": [],
   "source": [
    "for x in big_data_normal.SCOPES.values:\n",
    "    for y in str(x).split():\n",
    "        counter_disjoint[y] += 1"
   ]
  },
  {
   "cell_type": "code",
   "execution_count": 10,
   "metadata": {},
   "outputs": [
    {
     "data": {
      "text/plain": [
       "defaultdict(int,\n",
       "            {'brasil_cidadao': 3550637,\n",
       "             'selo_certificado_digital': 561918,\n",
       "             'brasil_cidadao_empresa': 217173,\n",
       "             'openid': 2766722,\n",
       "             'selo_cadastro_basico': 3828994,\n",
       "             'nan': 5217232,\n",
       "             'dados_brasil_cidadao': 589283,\n",
       "             'email': 893773,\n",
       "             'phone': 893773,\n",
       "             'profile': 893773,\n",
       "             'selo_representante_cnpj': 66536,\n",
       "             'selo_servidor_publico': 3355,\n",
       "             'selo_biometria': 7718,\n",
       "             'selo_dni': 7718,\n",
       "             'rfb_completo': 1539,\n",
       "             'selo_colaborador_cnpj': 236,\n",
       "             'dni_api': 78,\n",
       "             'selo_convalidacao': 2,\n",
       "             'selo_cpf_senha': 2,\n",
       "             'address': 36,\n",
       "             'DadosComplementaresRFB': 36,\n",
       "             'rfb_empresa_completo': 36})"
      ]
     },
     "execution_count": 10,
     "metadata": {},
     "output_type": "execute_result"
    }
   ],
   "source": [
    "counter_disjoint"
   ]
  },
  {
   "cell_type": "code",
   "execution_count": 12,
   "metadata": {},
   "outputs": [],
   "source": [
    "counter_join = defaultdict(int)\n",
    "for x in big_data_normal.SCOPES.values:\n",
    "        counter_join[str(x)] += 1"
   ]
  },
  {
   "cell_type": "code",
   "execution_count": 13,
   "metadata": {},
   "outputs": [
    {
     "data": {
      "text/plain": [
       "defaultdict(int,\n",
       "            {'brasil_cidadao': 3550637,\n",
       "             'selo_certificado_digital': 561918,\n",
       "             'brasil_cidadao_empresa': 217173,\n",
       "             'openid': 2766722,\n",
       "             'selo_cadastro_basico': 3828994,\n",
       "             'nan': 5217232,\n",
       "             'dados_brasil_cidadao': 589283,\n",
       "             'email': 893773,\n",
       "             'phone': 893773,\n",
       "             'profile': 893773,\n",
       "             'selo_representante_cnpj': 66536,\n",
       "             'selo_servidor_publico': 3355,\n",
       "             'selo_biometria': 7718,\n",
       "             'selo_dni': 7718,\n",
       "             'rfb_completo': 1539,\n",
       "             'selo_colaborador_cnpj': 236,\n",
       "             'dni_api': 78,\n",
       "             'selo_convalidacao': 2,\n",
       "             'selo_cpf_senha': 2,\n",
       "             'address': 36,\n",
       "             'DadosComplementaresRFB': 36,\n",
       "             'rfb_empresa_completo': 36})"
      ]
     },
     "execution_count": 13,
     "metadata": {},
     "output_type": "execute_result"
    }
   ],
   "source": [
    "counter_join"
   ]
  },
  {
   "cell_type": "code",
   "execution_count": 4,
   "metadata": {},
   "outputs": [
    {
     "data": {
      "text/html": [
       "<div>\n",
       "<style scoped>\n",
       "    .dataframe tbody tr th:only-of-type {\n",
       "        vertical-align: middle;\n",
       "    }\n",
       "\n",
       "    .dataframe tbody tr th {\n",
       "        vertical-align: top;\n",
       "    }\n",
       "\n",
       "    .dataframe thead th {\n",
       "        text-align: right;\n",
       "    }\n",
       "</style>\n",
       "<table border=\"1\" class=\"dataframe\">\n",
       "  <thead>\n",
       "    <tr style=\"text-align: right;\">\n",
       "      <th></th>\n",
       "      <th>id</th>\n",
       "      <th>CPF</th>\n",
       "      <th>ACAO</th>\n",
       "      <th>NOME</th>\n",
       "      <th>E-MAIL</th>\n",
       "      <th>TIPO</th>\n",
       "      <th>ESTADO</th>\n",
       "      <th>STATUS</th>\n",
       "      <th>RESOURCE</th>\n",
       "      <th>CLIENT_ID</th>\n",
       "      <th>AUDITORIA APLICACAO</th>\n",
       "    </tr>\n",
       "  </thead>\n",
       "  <tbody>\n",
       "    <tr>\n",
       "      <th>0</th>\n",
       "      <td>4000001</td>\n",
       "      <td>3.453564e+10</td>\n",
       "      <td>Recuperar Senha</td>\n",
       "      <td>NOME 34535642560</td>\n",
       "      <td>NOME34535642560@email.com</td>\n",
       "      <td>E-MAIL</td>\n",
       "      <td>RS_CF</td>\n",
       "      <td>SUCCESS</td>\n",
       "      <td>EMAIL_SMS</td>\n",
       "      <td>acesso.gov.br</td>\n",
       "      <td>True</td>\n",
       "    </tr>\n",
       "    <tr>\n",
       "      <th>1</th>\n",
       "      <td>4000002</td>\n",
       "      <td>3.477856e+10</td>\n",
       "      <td>Recuperar Senha</td>\n",
       "      <td>NOME 34778563850</td>\n",
       "      <td>NOME34778563850@email.com</td>\n",
       "      <td>E-MAIL</td>\n",
       "      <td>RS_CF</td>\n",
       "      <td>SUCCESS</td>\n",
       "      <td>EMAIL_SMS</td>\n",
       "      <td>acesso.gov.br</td>\n",
       "      <td>True</td>\n",
       "    </tr>\n",
       "    <tr>\n",
       "      <th>2</th>\n",
       "      <td>4000003</td>\n",
       "      <td>3.476954e+10</td>\n",
       "      <td>Cadastro</td>\n",
       "      <td>NOME 34769541950</td>\n",
       "      <td>NOME34769541950@email.com</td>\n",
       "      <td>SMS</td>\n",
       "      <td>PA_CF</td>\n",
       "      <td>SUCCESS</td>\n",
       "      <td>EMAIL_SMS</td>\n",
       "      <td>acesso.gov.br</td>\n",
       "      <td>True</td>\n",
       "    </tr>\n",
       "    <tr>\n",
       "      <th>3</th>\n",
       "      <td>4000004</td>\n",
       "      <td>3.485239e+10</td>\n",
       "      <td>Cadastro</td>\n",
       "      <td>NOME 34852387233</td>\n",
       "      <td>NOME34852387233@email.com</td>\n",
       "      <td>SMS</td>\n",
       "      <td>PA_CF</td>\n",
       "      <td>SUCCESS</td>\n",
       "      <td>EMAIL_SMS</td>\n",
       "      <td>acesso.gov.br</td>\n",
       "      <td>True</td>\n",
       "    </tr>\n",
       "    <tr>\n",
       "      <th>4</th>\n",
       "      <td>4000045</td>\n",
       "      <td>3.436474e+10</td>\n",
       "      <td>Recuperar Senha</td>\n",
       "      <td>NOME 34364741470</td>\n",
       "      <td>NOME34364741470@email.com</td>\n",
       "      <td>E-MAIL</td>\n",
       "      <td>RS_CF</td>\n",
       "      <td>SUCCESS</td>\n",
       "      <td>EMAIL_SMS</td>\n",
       "      <td>acesso.gov.br</td>\n",
       "      <td>True</td>\n",
       "    </tr>\n",
       "  </tbody>\n",
       "</table>\n",
       "</div>"
      ],
      "text/plain": [
       "        id           CPF             ACAO              NOME  \\\n",
       "0  4000001  3.453564e+10  Recuperar Senha  NOME 34535642560   \n",
       "1  4000002  3.477856e+10  Recuperar Senha  NOME 34778563850   \n",
       "2  4000003  3.476954e+10         Cadastro  NOME 34769541950   \n",
       "3  4000004  3.485239e+10         Cadastro  NOME 34852387233   \n",
       "4  4000045  3.436474e+10  Recuperar Senha  NOME 34364741470   \n",
       "\n",
       "                      E-MAIL    TIPO ESTADO   STATUS   RESOURCE  \\\n",
       "0  NOME34535642560@email.com  E-MAIL  RS_CF  SUCCESS  EMAIL_SMS   \n",
       "1  NOME34778563850@email.com  E-MAIL  RS_CF  SUCCESS  EMAIL_SMS   \n",
       "2  NOME34769541950@email.com     SMS  PA_CF  SUCCESS  EMAIL_SMS   \n",
       "3  NOME34852387233@email.com     SMS  PA_CF  SUCCESS  EMAIL_SMS   \n",
       "4  NOME34364741470@email.com  E-MAIL  RS_CF  SUCCESS  EMAIL_SMS   \n",
       "\n",
       "       CLIENT_ID  AUDITORIA APLICACAO  \n",
       "0  acesso.gov.br                 True  \n",
       "1  acesso.gov.br                 True  \n",
       "2  acesso.gov.br                 True  \n",
       "3  acesso.gov.br                 True  \n",
       "4  acesso.gov.br                 True  "
      ]
     },
     "execution_count": 4,
     "metadata": {},
     "output_type": "execute_result"
    }
   ],
   "source": [
    "big_data_aplicacao.head()"
   ]
  },
  {
   "cell_type": "code",
   "execution_count": null,
   "metadata": {},
   "outputs": [],
   "source": []
  }
 ],
 "metadata": {
  "kernelspec": {
   "display_name": "Python 3",
   "language": "python",
   "name": "python3"
  },
  "language_info": {
   "codemirror_mode": {
    "name": "ipython",
    "version": 3
   },
   "file_extension": ".py",
   "mimetype": "text/x-python",
   "name": "python",
   "nbconvert_exporter": "python",
   "pygments_lexer": "ipython3",
   "version": "3.7.3"
  }
 },
 "nbformat": 4,
 "nbformat_minor": 2
}
